{
 "cells": [
  {
   "cell_type": "markdown",
   "id": "b1f74723-c5c0-4620-82de-ad17ee35e148",
   "metadata": {},
   "source": [
    "# Project Title"
   ]
  },
  {
   "cell_type": "markdown",
   "id": "e708e2ab-430c-4d51-bcd3-cd4a3a91bc9a",
   "metadata": {},
   "source": [
    "# Exercise Title"
   ]
  },
  {
   "cell_type": "markdown",
   "id": "bd6070d9-25fd-4f66-b355-daa4ae5f3285",
   "metadata": {},
   "source": [
    "This notebook explores key concepts of data science."
   ]
  },
  {
   "cell_type": "markdown",
   "id": "0e1ceca4-1a29-4516-8f9c-873ad604af70",
   "metadata": {},
   "source": [
    "## Data Science Languages\n",
    "1. Python\n",
    "2. R\n",
    "3. SQL\n",
    "4. Julia"
   ]
  },
  {
   "cell_type": "markdown",
   "id": "ea7ae6c1-6808-4a03-b1a6-3c19b717b43f",
   "metadata": {},
   "source": [
    "## Data Science Libraries\n",
    "1. Pandas\n",
    "2. NumPy\n",
    "3. Matplotlib\n",
    "4. Scikit-learn\n"
   ]
  },
  {
   "cell_type": "markdown",
   "id": "8995495f-739f-4b0e-873c-8041f4bbf075",
   "metadata": {},
   "source": [
    "| Tool        | Description                    |\n",
    "|-------------|--------------------------------|\n",
    "| Jupyter     | Interactive notebooks          |\n",
    "| RStudio     | IDE for R                      |\n",
    "| Apache Spark| Big data processing            |"
   ]
  },
  {
   "cell_type": "markdown",
   "id": "818374eb-5eaa-4246-8acc-bf935d7aeb10",
   "metadata": {},
   "source": [
    "Below are examples of simple arithmetic operations:"
   ]
  },
  {
   "cell_type": "markdown",
   "id": "b8c0c757-83fb-4296-bc93-99d24336450f",
   "metadata": {},
   "source": [
    "# Multiplying and adding numbers\n",
    "result = (3 * 4) + 5\n",
    "result"
   ]
  },
  {
   "cell_type": "markdown",
   "id": "73d3553b-3518-4b34-b978-5a8689ec5ec0",
   "metadata": {},
   "source": [
    "# Convert minutes to hours\n",
    "minutes = 200\n",
    "hours = minutes / 60\n",
    "hours"
   ]
  },
  {
   "cell_type": "markdown",
   "id": "e1d0f50c-c403-40a7-9e20-28de782d008e",
   "metadata": {
    "jp-MarkdownHeadingCollapsed": true,
    "scrolled": true
   },
   "source": [
    "## Objectives\n",
    "- Understand data science languages\n",
    "- Learn key libraries for data science\n",
    "- Explore common data science tools"
   ]
  },
  {
   "cell_type": "markdown",
   "id": "57a3445c-9def-4201-b8ba-43561eab9ae9",
   "metadata": {
    "scrolled": true
   },
   "source": [
    "## Author\n",
    "Adams"
   ]
  }
 ],
 "metadata": {
  "kernelspec": {
   "display_name": "Python 3 (ipykernel)",
   "language": "python",
   "name": "python3"
  },
  "language_info": {
   "codemirror_mode": {
    "name": "ipython",
    "version": 3
   },
   "file_extension": ".py",
   "mimetype": "text/x-python",
   "name": "python",
   "nbconvert_exporter": "python",
   "pygments_lexer": "ipython3",
   "version": "3.12.4"
  }
 },
 "nbformat": 4,
 "nbformat_minor": 5
}
